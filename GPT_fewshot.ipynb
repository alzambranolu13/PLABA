{
 "cells": [
  {
   "cell_type": "code",
   "execution_count": null,
   "metadata": {
    "colab": {
     "base_uri": "https://localhost:8080/"
    },
    "id": "87eyAkUxLY_Z",
    "outputId": "1bf61f36-104a-4dbe-adfc-c7748b96beb5"
   },
   "outputs": [
    {
     "name": "stdout",
     "output_type": "stream",
     "text": [
      "Collecting openai\n",
      "  Downloading openai-1.42.0-py3-none-any.whl.metadata (22 kB)\n",
      "Requirement already satisfied: anyio<5,>=3.5.0 in /usr/local/lib/python3.10/dist-packages (from openai) (3.7.1)\n",
      "Requirement already satisfied: distro<2,>=1.7.0 in /usr/lib/python3/dist-packages (from openai) (1.7.0)\n",
      "Collecting httpx<1,>=0.23.0 (from openai)\n",
      "  Downloading httpx-0.27.0-py3-none-any.whl.metadata (7.2 kB)\n",
      "Collecting jiter<1,>=0.4.0 (from openai)\n",
      "  Downloading jiter-0.5.0-cp310-cp310-manylinux_2_17_x86_64.manylinux2014_x86_64.whl.metadata (3.6 kB)\n",
      "Requirement already satisfied: pydantic<3,>=1.9.0 in /usr/local/lib/python3.10/dist-packages (from openai) (2.8.2)\n",
      "Requirement already satisfied: sniffio in /usr/local/lib/python3.10/dist-packages (from openai) (1.3.1)\n",
      "Requirement already satisfied: tqdm>4 in /usr/local/lib/python3.10/dist-packages (from openai) (4.66.5)\n",
      "Requirement already satisfied: typing-extensions<5,>=4.11 in /usr/local/lib/python3.10/dist-packages (from openai) (4.12.2)\n",
      "Requirement already satisfied: idna>=2.8 in /usr/local/lib/python3.10/dist-packages (from anyio<5,>=3.5.0->openai) (3.7)\n",
      "Requirement already satisfied: exceptiongroup in /usr/local/lib/python3.10/dist-packages (from anyio<5,>=3.5.0->openai) (1.2.2)\n",
      "Requirement already satisfied: certifi in /usr/local/lib/python3.10/dist-packages (from httpx<1,>=0.23.0->openai) (2024.7.4)\n",
      "Collecting httpcore==1.* (from httpx<1,>=0.23.0->openai)\n",
      "  Downloading httpcore-1.0.5-py3-none-any.whl.metadata (20 kB)\n",
      "Collecting h11<0.15,>=0.13 (from httpcore==1.*->httpx<1,>=0.23.0->openai)\n",
      "  Downloading h11-0.14.0-py3-none-any.whl.metadata (8.2 kB)\n",
      "Requirement already satisfied: annotated-types>=0.4.0 in /usr/local/lib/python3.10/dist-packages (from pydantic<3,>=1.9.0->openai) (0.7.0)\n",
      "Requirement already satisfied: pydantic-core==2.20.1 in /usr/local/lib/python3.10/dist-packages (from pydantic<3,>=1.9.0->openai) (2.20.1)\n",
      "Downloading openai-1.42.0-py3-none-any.whl (362 kB)\n",
      "\u001b[2K   \u001b[90m━━━━━━━━━━━━━━━━━━━━━━━━━━━━━━━━━━━━━━━━\u001b[0m \u001b[32m362.9/362.9 kB\u001b[0m \u001b[31m10.5 MB/s\u001b[0m eta \u001b[36m0:00:00\u001b[0m\n",
      "\u001b[?25hDownloading httpx-0.27.0-py3-none-any.whl (75 kB)\n",
      "\u001b[2K   \u001b[90m━━━━━━━━━━━━━━━━━━━━━━━━━━━━━━━━━━━━━━━━\u001b[0m \u001b[32m75.6/75.6 kB\u001b[0m \u001b[31m5.3 MB/s\u001b[0m eta \u001b[36m0:00:00\u001b[0m\n",
      "\u001b[?25hDownloading httpcore-1.0.5-py3-none-any.whl (77 kB)\n",
      "\u001b[2K   \u001b[90m━━━━━━━━━━━━━━━━━━━━━━━━━━━━━━━━━━━━━━━━\u001b[0m \u001b[32m77.9/77.9 kB\u001b[0m \u001b[31m3.6 MB/s\u001b[0m eta \u001b[36m0:00:00\u001b[0m\n",
      "\u001b[?25hDownloading jiter-0.5.0-cp310-cp310-manylinux_2_17_x86_64.manylinux2014_x86_64.whl (318 kB)\n",
      "\u001b[2K   \u001b[90m━━━━━━━━━━━━━━━━━━━━━━━━━━━━━━━━━━━━━━━━\u001b[0m \u001b[32m318.9/318.9 kB\u001b[0m \u001b[31m13.3 MB/s\u001b[0m eta \u001b[36m0:00:00\u001b[0m\n",
      "\u001b[?25hDownloading h11-0.14.0-py3-none-any.whl (58 kB)\n",
      "\u001b[2K   \u001b[90m━━━━━━━━━━━━━━━━━━━━━━━━━━━━━━━━━━━━━━━━\u001b[0m \u001b[32m58.3/58.3 kB\u001b[0m \u001b[31m3.8 MB/s\u001b[0m eta \u001b[36m0:00:00\u001b[0m\n",
      "\u001b[?25hInstalling collected packages: jiter, h11, httpcore, httpx, openai\n",
      "Successfully installed h11-0.14.0 httpcore-1.0.5 httpx-0.27.0 jiter-0.5.0 openai-1.42.0\n"
     ]
    }
   ],
   "source": [
    "!pip install openai"
   ]
  },
  {
   "cell_type": "code",
   "execution_count": null,
   "metadata": {
    "id": "_7Q-rOPjH352"
   },
   "outputs": [],
   "source": [
    "# Import the os package\n",
    "import os\n",
    "\n",
    "# Import the openai package\n",
    "import openai\n"
   ]
  },
  {
   "cell_type": "code",
   "execution_count": null,
   "metadata": {
    "id": "ApjqRWRqSgKa"
   },
   "outputs": [],
   "source": [
    "import os\n",
    "from openai import OpenAI\n",
    "\n",
    "client = OpenAI(\n",
    "    # This is the default and can be omitted\n",
    "    api_key=os.environ.get(\"OPENAI\"),\n",
    "  )"
   ]
  },
  {
   "cell_type": "code",
   "execution_count": null,
   "metadata": {
    "id": "TAS-8COvON1m"
   },
   "outputs": [],
   "source": [
    "with open(\"prompt.txt\", \"r\") as f:\n",
    "    prompt1 = f.read()\n",
    "\n",
    "with open(\"example1.txt\", \"r\") as f:\n",
    "    example1 = f.read()\n",
    "\n",
    "with open(\"example2.txt\", \"r\") as f:\n",
    "    example2 = f.read()\n",
    "\n",
    "with open(\"example3.txt\", \"r\") as f:\n",
    "    example3 = f.read()\n"
   ]
  },
  {
   "cell_type": "code",
   "execution_count": null,
   "metadata": {
    "id": "PtTaVVjXSjLT"
   },
   "outputs": [],
   "source": [
    "import json\n",
    "def adapt_text(text):\n",
    "\n",
    "  response = client.chat.completions.create(\n",
    "                model=\"gpt-3.5-turbo\",\n",
    "                messages=[{\"role\": \"user\", \"content\": prompt1},\n",
    "                          {\"role\": \"assistant\", \"content\": \"Great! I'll be happy to help you with adapting biomedical abstracts. You can share an abstract, and we'll go through the process of identifying non-consumer terms, determining suitable replacements, and performing the adaptation together. Feel free to provide an abstract whenever you're ready!\"},\n",
    "                          {\"role\": \"user\", \"content\": 'Adapt the following: \" The purpose of this study was to evaluate foveal regeneration and the association between retinal restoration and visual acuity following reattachment surgery for rhegmatogenous retinal detachment (RRD).' },\n",
    "                          {\"role\": \"assistant\", \"content\": example1 },\n",
    "                          {\"role\": \"user\", \"content\": 'Great answer! Now adapt this one: \"Idiopathic pulmonary fibrosis (IPF) is a progressive and debilitating, scarring lung disease with a worse prognosis than some cancers.\" '},\n",
    "                          {\"role\": \"assistant\", \"content\": example2 },\n",
    "                          {\"role\": \"user\", \"content\": 'Thank you, what about this one? \"Resistant starch (RS) is the starch fraction that eludes digestion in the small intestine.\"'},\n",
    "                          {\"role\": \"assistant\", \"content\": example3 },\n",
    "                          {\"role\": \"user\", \"content\": f\" adapt the following: {text}\"}\n",
    "                ])\n",
    "  reply_content = response.choices[0].message.content\n",
    "  json_text= json.loads(reply_content.split('Adaptation:')[0])\n",
    "  adaptation = reply_content.split('Adaptation:')[1]\n",
    "\n",
    "  return json_text,adaptation"
   ]
  },
  {
   "cell_type": "code",
   "execution_count": null,
   "metadata": {
    "colab": {
     "base_uri": "https://localhost:8080/"
    },
    "id": "ELcvdfy6vh2N",
    "outputId": "795c73a0-e966-4245-d6ca-618c3e3d6606"
   },
   "outputs": [
    {
     "name": "stdout",
     "output_type": "stream",
     "text": [
      "Muscle cramps are a common problem characterized by a sudden, painful, involuntary contraction of muscle.\n",
      "Original text: Muscle cramps are a common problem characterized by a sudden, painful, involuntary contraction of muscle.\n",
      "The adapted text:  \"Muscle cramps are a common problem characterized by sudden, painful muscle contractions that you can't control.\"\n"
     ]
    }
   ],
   "source": [
    "text= input()\n",
    "print('Original text:',text)\n",
    "json_text, adapt= adapt_text(text)\n",
    "print(\"The adapted text:\",adapt)"
   ]
  },
  {
   "cell_type": "code",
   "execution_count": null,
   "metadata": {
    "colab": {
     "base_uri": "https://localhost:8080/"
    },
    "id": "_6ILJcBUSuzO",
    "outputId": "2354b793-3809-4759-a352-736584eab661"
   },
   "outputs": [
    {
     "name": "stdout",
     "output_type": "stream",
     "text": [
      "Adaptation Number 1\n",
      "Adaptation Number 2\n",
      "Adaptation Number 3\n",
      "Adaptation Number 4\n",
      "Adaptation Number 5\n",
      "Adaptation Number 6\n",
      "Adaptation Number 7\n",
      "Adaptation Number 8\n",
      "Adaptation Number 9\n",
      "Adaptation Number 10\n",
      "Adaptation Number 11\n",
      "Adaptation Number 12\n",
      "Adaptation Number 13\n",
      "Adaptation Number 14\n",
      "Adaptation Number 15\n",
      "Adaptation Number 16\n",
      "Adaptation Number 17\n",
      "Adaptation Number 18\n",
      "Adaptation Number 19\n",
      "Adaptation Number 20\n",
      "Adaptation Number 21\n",
      "Adaptation Number 22\n",
      "Adaptation Number 23\n",
      "Adaptation Number 24\n",
      "Adaptation Number 25\n",
      "Adaptation Number 26\n",
      "Adaptation Number 27\n",
      "Adaptation Number 28\n",
      "Adaptation Number 29\n",
      "Adaptation Number 30\n",
      "Adaptation Number 31\n",
      "Adaptation Number 32\n",
      "Adaptation Number 33\n",
      "Adaptation Number 34\n",
      "Adaptation Number 35\n",
      "Adaptation Number 36\n",
      "Adaptation Number 37\n",
      "Adaptation Number 38\n",
      "Adaptation Number 39\n",
      "Adaptation Number 40\n",
      "Adaptation Number 41\n",
      "Adaptation Number 42\n",
      "Adaptation Number 43\n",
      "Adaptation Number 44\n",
      "Adaptation Number 45\n",
      "Adaptation Number 46\n",
      "Adaptation Number 47\n",
      "Adaptation Number 48\n",
      "Adaptation Number 49\n",
      "Adaptation Number 50\n",
      "Adaptation Number 51\n",
      "Adaptation Number 52\n",
      "Adaptation Number 53\n",
      "Adaptation Number 54\n",
      "Adaptation Number 55\n",
      "Adaptation Number 56\n",
      "Adaptation Number 57\n",
      "Adaptation Number 58\n",
      "Adaptation Number 59\n",
      "Adaptation Number 60\n",
      "Adaptation Number 61\n",
      "Adaptation Number 62\n",
      "Adaptation Number 63\n",
      "Adaptation Number 64\n",
      "Adaptation Number 65\n",
      "Adaptation Number 66\n",
      "Adaptation Number 67\n",
      "Adaptation Number 68\n",
      "Adaptation Number 69\n",
      "Adaptation Number 70\n",
      "Adaptation Number 71\n",
      "Adaptation Number 72\n",
      "Adaptation Number 73\n",
      "Adaptation Number 74\n",
      "Adaptation Number 75\n",
      "Adaptation Number 76\n",
      "Adaptation Number 77\n",
      "Adaptation Number 78\n",
      "Adaptation Number 79\n",
      "Adaptation Number 80\n",
      "Adaptation Number 81\n",
      "Adaptation Number 82\n",
      "Adaptation Number 83\n",
      "Adaptation Number 84\n",
      "Adaptation Number 85\n",
      "Adaptation Number 86\n",
      "Adaptation Number 87\n",
      "Adaptation Number 88\n",
      "Adaptation Number 89\n",
      "Adaptation Number 90\n",
      "Adaptation Number 91\n",
      "Adaptation Number 92\n",
      "Adaptation Number 93\n",
      "Adaptation Number 94\n",
      "Adaptation Number 95\n",
      "Adaptation Number 96\n",
      "Adaptation Number 97\n",
      "Adaptation Number 98\n",
      "Adaptation Number 99\n",
      "Adaptation Number 100\n",
      "25.293141477611808\n"
     ]
    }
   ],
   "source": [
    "import pandas as pd\n",
    "\n",
    "df=pd.read_excel(\"test.xlsx\")\n",
    "precision= 0\n",
    "i=1\n",
    "for cs in df.iterrows():\n",
    " print(\"Adaptation Number\",i)\n",
    " abstract = cs[1]['abstract']\n",
    " json_text, adapt= adapt_text(abstract)\n",
    " prediction = set(json_text.keys())\n",
    " target = None\n",
    " exec(f\"target={cs[1]['targets']}\")\n",
    " precision+=len(target & prediction)/len(target)\n",
    " i+=1\n",
    "\n",
    "print(precision)\n"
   ]
  }
 ],
 "metadata": {
  "colab": {
   "provenance": []
  },
  "kernelspec": {
   "display_name": "Python 3",
   "language": "python",
   "name": "python3"
  },
  "language_info": {
   "codemirror_mode": {
    "name": "ipython",
    "version": 3
   },
   "file_extension": ".py",
   "mimetype": "text/x-python",
   "name": "python",
   "nbconvert_exporter": "python",
   "pygments_lexer": "ipython3",
   "version": "3.8.8"
  }
 },
 "nbformat": 4,
 "nbformat_minor": 1
}
